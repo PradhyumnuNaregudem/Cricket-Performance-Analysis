{
  "cells": [
    {
      "cell_type": "markdown",
      "metadata": {
        "id": "vwnNlNIEwoZ8"
      },
      "source": [
        "To learn more about accelerating pandas on Colab, see the [10 minute guide](https://colab.research.google.com/github/rapidsai-community/showcase/blob/main/getting_started_tutorials/cudf_pandas_colab_demo.ipynb) or\n",
        " [US stock market data analysis demo](https://colab.research.google.com/github/rapidsai-community/showcase/blob/main/getting_started_tutorials/cudf_pandas_stocks_demo.ipynb)."
      ]
    },
    {
      "cell_type": "code",
      "source": [
        "!apt-get install r-base"
      ],
      "metadata": {
        "colab": {
          "base_uri": "https://localhost:8080/"
        },
        "id": "CDAjV57Tyuj1",
        "outputId": "cd349684-1a30-49f0-8dd5-c395fd59a31b"
      },
      "execution_count": 1,
      "outputs": [
        {
          "output_type": "stream",
          "name": "stdout",
          "text": [
            "Reading package lists... Done\n",
            "Building dependency tree... Done\n",
            "Reading state information... Done\n",
            "r-base is already the newest version (4.4.2-1.2204.0).\n",
            "0 upgraded, 0 newly installed, 0 to remove and 49 not upgraded.\n"
          ]
        }
      ]
    },
    {
      "cell_type": "code",
      "source": [
        "library(readr)\n",
        "library(dplyr)\n",
        "library(caret)\n",
        "library(rpart)\n",
        "library(e1071)\n",
        "library(ggplot2)"
      ],
      "metadata": {
        "colab": {
          "base_uri": "https://localhost:8080/"
        },
        "id": "n37V4zIWy0u3",
        "outputId": "50774ad9-50ee-4a47-8f1a-8ab43db704d1"
      },
      "execution_count": 6,
      "outputs": [
        {
          "output_type": "stream",
          "name": "stderr",
          "text": [
            "\n",
            "Attaching package: ‘dplyr’\n",
            "\n",
            "\n",
            "The following objects are masked from ‘package:stats’:\n",
            "\n",
            "    filter, lag\n",
            "\n",
            "\n",
            "The following objects are masked from ‘package:base’:\n",
            "\n",
            "    intersect, setdiff, setequal, union\n",
            "\n",
            "\n",
            "Loading required package: ggplot2\n",
            "\n",
            "Loading required package: lattice\n",
            "\n"
          ]
        }
      ]
    },
    {
      "cell_type": "code",
      "source": [
        "team1_data <- read_csv(\"/content/Copy of TEAM1(1).csv\")\n",
        "team2_data <- read_csv(\"/content/Copy of TEAM2(1).csv\")"
      ],
      "metadata": {
        "colab": {
          "base_uri": "https://localhost:8080/"
        },
        "id": "rTu8RoQtz3cd",
        "outputId": "bf64f64e-10fe-415c-e6a5-7dd43a14d45b"
      },
      "execution_count": 7,
      "outputs": [
        {
          "output_type": "stream",
          "name": "stderr",
          "text": [
            "\u001b[1mRows: \u001b[22m\u001b[34m11\u001b[39m \u001b[1mColumns: \u001b[22m\u001b[34m23\u001b[39m\n",
            "\u001b[36m──\u001b[39m \u001b[1mColumn specification\u001b[22m \u001b[36m────────────────────────────────────────────────────────\u001b[39m\n",
            "\u001b[1mDelimiter:\u001b[22m \",\"\n",
            "\u001b[31mchr\u001b[39m  (2): PLAYER, ROLE\n",
            "\u001b[32mdbl\u001b[39m (21): INNS, NOT_OUTS, FIFTIES, CENTURIES, HIGH_SCORE, RUNS, AVG, STRIKER...\n",
            "\n",
            "\u001b[36mℹ\u001b[39m Use `spec()` to retrieve the full column specification for this data.\n",
            "\u001b[36mℹ\u001b[39m Specify the column types or set `show_col_types = FALSE` to quiet this message.\n",
            "\u001b[1mRows: \u001b[22m\u001b[34m33\u001b[39m \u001b[1mColumns: \u001b[22m\u001b[34m23\u001b[39m\n",
            "\u001b[36m──\u001b[39m \u001b[1mColumn specification\u001b[22m \u001b[36m────────────────────────────────────────────────────────\u001b[39m\n",
            "\u001b[1mDelimiter:\u001b[22m \",\"\n",
            "\u001b[31mchr\u001b[39m  (2): PLAYER, ROLE\n",
            "\u001b[32mdbl\u001b[39m (21): INNS, NOT_OUTS, FIFTIES, CENTURIES, HIGH_SCORE, RUNS, AVG, STRIKER...\n",
            "\n",
            "\u001b[36mℹ\u001b[39m Use `spec()` to retrieve the full column specification for this data.\n",
            "\u001b[36mℹ\u001b[39m Specify the column types or set `show_col_types = FALSE` to quiet this message.\n"
          ]
        }
      ]
    },
    {
      "cell_type": "code",
      "source": [
        "# Add a column to distinguish between the two teams\n",
        "team1_data$Team <- \"Team1\"\n",
        "team2_data$Team <- \"Team2\"\n",
        "\n",
        "# Combine the datasets\n",
        "combined_data <- bind_rows(team1_data, team2_data)\n",
        "\n",
        "# Step 2: Data Preprocessing\n",
        "# Check for missing values\n",
        "sum(is.na(combined_data))\n",
        "\n",
        "# Handle missing values (if any)\n",
        "combined_data <- combined_data %>%\n",
        "  mutate(across(everything(), ~ ifelse(is.na(.), 0, .)))\n",
        "\n",
        "# Convert the target variable (Team) to a factor\n",
        "combined_data$Team <- as.factor(combined_data$Team)\n",
        "\n",
        "# Step 3: Exploratory Data Analysis (EDA)\n",
        "# Summary statistics\n",
        "summary(combined_data)\n",
        "\n",
        "# Visualize the distribution of runs by team\n",
        "ggplot(combined_data, aes(x = RUNS, fill = Team)) +\n",
        "  geom_histogram(binwidth = 500, alpha = 0.6) +\n",
        "  labs(title = \"Distribution of Runs by Team\", x = \"Runs\", y = \"Count\")\n",
        "\n",
        "# Step 4: Split the data into training and testing sets\n",
        "set.seed(123)\n",
        "train_index <- createDataPartition(combined_data$Team, p = 0.8, list = FALSE)\n",
        "train_data <- combined_data[train_index, ]\n",
        "test_data <- combined_data[-train_index, ]\n"
      ],
      "metadata": {
        "colab": {
          "base_uri": "https://localhost:8080/",
          "height": 1000
        },
        "id": "IJ8BnCgz_TzY",
        "outputId": "63eeb585-45be-4832-aff4-1b54c7b838da"
      },
      "execution_count": 11,
      "outputs": [
        {
          "output_type": "display_data",
          "data": {
            "text/html": [
              "554"
            ],
            "text/markdown": "554",
            "text/latex": "554",
            "text/plain": [
              "[1] 554"
            ]
          },
          "metadata": {}
        },
        {
          "output_type": "display_data",
          "data": {
            "text/plain": [
              "    PLAYER              ROLE                INNS          NOT_OUTS     \n",
              " Length:44          Length:44          Min.   : 0.00   Min.   : 0.000  \n",
              " Class :character   Class :character   1st Qu.: 0.00   1st Qu.: 0.000  \n",
              " Mode  :character   Mode  :character   Median : 5.50   Median : 1.000  \n",
              "                                       Mean   :19.82   Mean   : 3.932  \n",
              "                                       3rd Qu.:35.00   3rd Qu.: 7.000  \n",
              "                                       Max.   :72.00   Max.   :14.000  \n",
              "    FIFTIES         CENTURIES        HIGH_SCORE          RUNS       \n",
              " Min.   : 0.000   Min.   : 0.000   Min.   :  0.00   Min.   :   0.0  \n",
              " 1st Qu.: 0.000   1st Qu.: 0.000   1st Qu.:  0.00   1st Qu.:   0.0  \n",
              " Median : 0.000   Median : 0.000   Median :  4.50   Median :  23.0  \n",
              " Mean   : 4.341   Mean   : 1.795   Mean   : 48.84   Mean   : 719.9  \n",
              " 3rd Qu.: 4.750   3rd Qu.: 0.250   3rd Qu.: 85.75   3rd Qu.: 813.8  \n",
              " Max.   :24.000   Max.   :12.000   Max.   :210.00   Max.   :3616.0  \n",
              "      AVG          STRIKERATE       CATCHOUTS      STUMPOUTS     OVERSBOWLED   \n",
              " Min.   : 0.00   Min.   :  0.00   Min.   : 0.0   Min.   :0.00   Min.   :  0.0  \n",
              " 1st Qu.: 0.00   1st Qu.:  0.00   1st Qu.: 0.0   1st Qu.:0.00   1st Qu.:  0.0  \n",
              " Median : 3.06   Median : 23.00   Median : 1.5   Median :0.00   Median :  0.0  \n",
              " Mean   :17.21   Mean   : 42.61   Mean   :11.5   Mean   :0.25   Mean   :102.6  \n",
              " 3rd Qu.:38.25   3rd Qu.: 88.82   3rd Qu.:21.0   3rd Qu.:0.00   3rd Qu.:  5.1  \n",
              " Max.   :61.38   Max.   :105.03   Max.   :56.0   Max.   :4.00   Max.   :625.0  \n",
              " MATCHESBOWLED      RUNS_GIVEN     WICKETS_TAKEN        FOURS    \n",
              " Min.   : 0.000   Min.   :   0.0   Min.   :  0.00   Min.   :0.0  \n",
              " 1st Qu.: 0.000   1st Qu.:   0.0   1st Qu.:  0.00   1st Qu.:0.0  \n",
              " Median : 0.000   Median :   0.0   Median :  0.00   Median :0.0  \n",
              " Mean   : 5.023   Mean   : 528.1   Mean   : 18.57   Mean   :0.5  \n",
              " 3rd Qu.: 0.000   3rd Qu.:  37.0   3rd Qu.:  1.00   3rd Qu.:0.0  \n",
              " Max.   :31.000   Max.   :3341.0   Max.   :101.00   Max.   :9.0  \n",
              " AVEGARE_BOWLING        SR              ER              CT        \n",
              " Min.   : 0.000   Min.   : 0.00   Min.   :0.000   Min.   :  0.00  \n",
              " 1st Qu.: 0.000   1st Qu.: 0.00   1st Qu.:0.000   1st Qu.:  0.00  \n",
              " Median : 0.000   Median : 0.00   Median :0.000   Median :  0.00  \n",
              " Mean   : 7.327   Mean   :20.08   Mean   :2.502   Mean   : 21.50  \n",
              " 3rd Qu.:15.000   3rd Qu.:28.47   3rd Qu.:5.120   3rd Qu.: 25.25  \n",
              " Max.   :39.820   Max.   :99.99   Max.   :8.500   Max.   :151.00  \n",
              "     MAXCT           CTINNS          Team    FOURwickethauls \n",
              " Min.   :0.000   Min.   :0.0000   Team1:11   Min.   :0.0000  \n",
              " 1st Qu.:0.000   1st Qu.:0.0000   Team2:33   1st Qu.:0.0000  \n",
              " Median :0.000   Median :0.0000              Median :0.0000  \n",
              " Mean   :1.045   Mean   :0.1709              Mean   :0.5227  \n",
              " 3rd Qu.:2.000   3rd Qu.:0.3225              3rd Qu.:0.0000  \n",
              " Max.   :3.000   Max.   :0.7100              Max.   :9.0000  "
            ]
          },
          "metadata": {}
        },
        {
          "output_type": "display_data",
          "data": {
            "text/plain": [
              "plot without title"
            ],
            "image/png": "[encoded data removed]"
          },
          "metadata": {
            "image/png": {
              "width": 420,
              "height": 420
            }
          }
        }
      ]
    },
    {
      "cell_type": "code",
      "source": [
        "# Step 5: Train Models\n",
        "# Logistic Regression\n",
        "log_reg_model <- glm(Team ~ RUNS + AVG + STRIKERATE + WICKETS_TAKEN,\n",
        "                     data = train_data, family = binomial)\n",
        "summary(log_reg_model)"
      ],
      "metadata": {
        "colab": {
          "base_uri": "https://localhost:8080/",
          "height": 399
        },
        "id": "cQrVUzqSBoGn",
        "outputId": "4822629d-e4a1-462d-a751-db31ee96f2d0"
      },
      "execution_count": 13,
      "outputs": [
        {
          "output_type": "display_data",
          "data": {
            "text/plain": [
              "\n",
              "Call:\n",
              "glm(formula = Team ~ RUNS + AVG + STRIKERATE + WICKETS_TAKEN, \n",
              "    family = binomial, data = train_data)\n",
              "\n",
              "Coefficients:\n",
              "                Estimate Std. Error z value Pr(>|z|)  \n",
              "(Intercept)    4.1624644  1.8479869   2.252   0.0243 *\n",
              "RUNS          -0.0002140  0.0008666  -0.247   0.8050  \n",
              "AVG           -0.0411091  0.0998957  -0.412   0.6807  \n",
              "STRIKERATE    -0.0098045  0.0499964  -0.196   0.8445  \n",
              "WICKETS_TAKEN -0.0373762  0.0279252  -1.338   0.1808  \n",
              "---\n",
              "Signif. codes:  0 ‘***’ 0.001 ‘**’ 0.01 ‘*’ 0.05 ‘.’ 0.1 ‘ ’ 1\n",
              "\n",
              "(Dispersion parameter for binomial family taken to be 1)\n",
              "\n",
              "    Null deviance: 40.488  on 35  degrees of freedom\n",
              "Residual deviance: 27.692  on 31  degrees of freedom\n",
              "AIC: 37.692\n",
              "\n",
              "Number of Fisher Scoring iterations: 6\n"
            ]
          },
          "metadata": {}
        }
      ]
    },
    {
      "cell_type": "code",
      "source": [
        "# Step 5: Train Models\n",
        "# Logistic Regression\n",
        "log_reg_model <- glm(Team ~ RUNS + AVG + STRIKERATE + WICKETS_TAKEN,\n",
        "                     data = train_data, family = binomial)\n",
        "summary(log_reg_model)\n",
        "\n",
        "# Decision Tree\n",
        "dt_model <- rpart(Team ~ RUNS + AVG + STRIKERATE + WICKETS_TAKEN,\n",
        "                  data = train_data, method = \"class\")\n",
        "print(dt_model)\n",
        "\n",
        "# Support Vector Machine (SVM)\n",
        "svm_model <- svm(Team ~ RUNS + AVG + STRIKERATE + WICKETS_TAKEN,\n",
        "                 data = train_data, kernel = \"linear\")\n",
        "summary(svm_model)"
      ],
      "metadata": {
        "colab": {
          "base_uri": "https://localhost:8080/",
          "height": 885
        },
        "id": "itwgVnNaBtfw",
        "outputId": "6ae974d0-f3a9-4c80-bac1-bfd243bee531"
      },
      "execution_count": 14,
      "outputs": [
        {
          "output_type": "display_data",
          "data": {
            "text/plain": [
              "\n",
              "Call:\n",
              "glm(formula = Team ~ RUNS + AVG + STRIKERATE + WICKETS_TAKEN, \n",
              "    family = binomial, data = train_data)\n",
              "\n",
              "Coefficients:\n",
              "                Estimate Std. Error z value Pr(>|z|)  \n",
              "(Intercept)    4.1624644  1.8479869   2.252   0.0243 *\n",
              "RUNS          -0.0002140  0.0008666  -0.247   0.8050  \n",
              "AVG           -0.0411091  0.0998957  -0.412   0.6807  \n",
              "STRIKERATE    -0.0098045  0.0499964  -0.196   0.8445  \n",
              "WICKETS_TAKEN -0.0373762  0.0279252  -1.338   0.1808  \n",
              "---\n",
              "Signif. codes:  0 ‘***’ 0.001 ‘**’ 0.01 ‘*’ 0.05 ‘.’ 0.1 ‘ ’ 1\n",
              "\n",
              "(Dispersion parameter for binomial family taken to be 1)\n",
              "\n",
              "    Null deviance: 40.488  on 35  degrees of freedom\n",
              "Residual deviance: 27.692  on 31  degrees of freedom\n",
              "AIC: 37.692\n",
              "\n",
              "Number of Fisher Scoring iterations: 6\n"
            ]
          },
          "metadata": {}
        },
        {
          "output_type": "stream",
          "name": "stdout",
          "text": [
            "n= 36 \n",
            "\n",
            "node), split, n, loss, yval, (yprob)\n",
            "      * denotes terminal node\n",
            "\n",
            "1) root 36 9 Team2 (0.2500000 0.7500000) *\n"
          ]
        },
        {
          "output_type": "display_data",
          "data": {
            "text/plain": [
              "\n",
              "Call:\n",
              "svm(formula = Team ~ RUNS + AVG + STRIKERATE + WICKETS_TAKEN, data = train_data, \n",
              "    kernel = \"linear\")\n",
              "\n",
              "\n",
              "Parameters:\n",
              "   SVM-Type:  C-classification \n",
              " SVM-Kernel:  linear \n",
              "       cost:  1 \n",
              "\n",
              "Number of Support Vectors:  20\n",
              "\n",
              " ( 9 11 )\n",
              "\n",
              "\n",
              "Number of Classes:  2 \n",
              "\n",
              "Levels: \n",
              " Team1 Team2\n",
              "\n",
              "\n"
            ]
          },
          "metadata": {}
        }
      ]
    },
    {
      "cell_type": "code",
      "source": [
        "# Step 6: Evaluate Models\n",
        "# Logistic Regression\n",
        "log_reg_pred <- predict(log_reg_model, test_data, type = \"response\")\n",
        "log_reg_pred_class <- ifelse(log_reg_pred > 0.5, \"Team2\", \"Team1\")\n",
        "log_reg_accuracy <- mean(log_reg_pred_class == test_data$Team)\n",
        "cat(\"Logistic Regression Accuracy:\", log_reg_accuracy, \"\\n\")\n",
        "\n",
        "# Decision Tree\n",
        "dt_pred <- predict(dt_model, test_data, type = \"class\")\n",
        "dt_accuracy <- mean(dt_pred == test_data$Team)\n",
        "cat(\"Decision Tree Accuracy:\", dt_accuracy, \"\\n\")\n",
        "\n",
        "# SVM\n",
        "svm_pred <- predict(svm_model, test_data)\n",
        "svm_accuracy <- mean(svm_pred == test_data$Team)\n",
        "cat(\"SVM Accuracy:\", svm_accuracy, \"\\n\")"
      ],
      "metadata": {
        "colab": {
          "base_uri": "https://localhost:8080/"
        },
        "id": "KOU1lWkdCCNe",
        "outputId": "cc6cdea6-f814-4ae8-bece-1d8aa71f59d2"
      },
      "execution_count": 16,
      "outputs": [
        {
          "output_type": "stream",
          "name": "stdout",
          "text": [
            "Logistic Regression Accuracy: 0.625 \n",
            "Decision Tree Accuracy: 0.75 \n",
            "SVM Accuracy: 0.625 \n"
          ]
        }
      ]
    }
  ],
  "metadata": {
    "colab": {
      "name": "Welcome To Colab",
      "provenance": []
    },
    "kernelspec": {
      "display_name": "R",
      "name": "ir"
    },
    "language_info": {
      "name": "R"
    }
  },
  "nbformat": 4,
  "nbformat_minor": 0
}